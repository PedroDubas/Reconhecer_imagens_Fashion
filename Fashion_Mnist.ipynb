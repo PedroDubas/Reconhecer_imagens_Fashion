{
  "nbformat": 4,
  "nbformat_minor": 0,
  "metadata": {
    "colab": {
      "name": "Fashion_Mnist.ipynb",
      "version": "0.3.2",
      "provenance": [],
      "collapsed_sections": [],
      "include_colab_link": true
    },
    "language_info": {
      "codemirror_mode": {
        "name": "ipython",
        "version": 3
      },
      "file_extension": ".py",
      "mimetype": "text/x-python",
      "name": "python",
      "nbconvert_exporter": "python",
      "pygments_lexer": "ipython3",
      "version": "3.7.3"
    },
    "kernelspec": {
      "display_name": "Python 3",
      "language": "python",
      "name": "python3"
    }
  },
  "cells": [
    {
      "cell_type": "markdown",
      "metadata": {
        "id": "view-in-github",
        "colab_type": "text"
      },
      "source": [
        "<a href=\"https://colab.research.google.com/github/PedroDubas/Reconhecer_imagens_Fashion/blob/master/Fashion_Mnist.ipynb\" target=\"_parent\"><img src=\"https://colab.research.google.com/assets/colab-badge.svg\" alt=\"Open In Colab\"/></a>"
      ]
    },
    {
      "cell_type": "code",
      "metadata": {
        "id": "EQtdrw7oYp-W",
        "colab_type": "code",
        "outputId": "c51f366a-e36d-4a0f-80b4-131372fc969d",
        "colab": {}
      },
      "source": [
        "import keras\n",
        "from keras.datasets import cifar10\n",
        "from keras.preprocessing.image import ImageDataGenerator\n",
        "from keras.models import Sequential\n",
        "from keras.layers import Dense, Dropout, Activation, Flatten\n",
        "from keras.layers import Conv2D, MaxPooling2D\n",
        "import pandas as pd\n",
        "import numpy as np\n",
        "import sklearn as sk\n",
        "import matplotlib.pyplot as plt\n",
        "%matplotlib inline\n",
        "import os\n",
        "from keras.datasets import fashion_mnist\n",
        "from math import ceil, floor\n",
        "os.environ['KMP_DUPLICATE_LIB_OK']='True'"
      ],
      "execution_count": 0,
      "outputs": [
        {
          "output_type": "stream",
          "text": [
            "Using TensorFlow backend.\n"
          ],
          "name": "stderr"
        }
      ]
    },
    {
      "cell_type": "code",
      "metadata": {
        "id": "yboRVOaKYp-c",
        "colab_type": "code",
        "colab": {}
      },
      "source": [
        "((trainX, trainY), (testX, testY)) = fashion_mnist.load_data()\n"
      ],
      "execution_count": 0,
      "outputs": []
    },
    {
      "cell_type": "code",
      "metadata": {
        "id": "z800ngIZYp-e",
        "colab_type": "code",
        "colab": {}
      },
      "source": [
        "def plot_image(number):\n",
        "    fig = plt.figure(figsize = (15,8))\n",
        "    plt.imshow(trainX[number])\n",
        "   "
      ],
      "execution_count": 0,
      "outputs": []
    },
    {
      "cell_type": "code",
      "metadata": {
        "id": "ho2Hzp4GYp-f",
        "colab_type": "code",
        "outputId": "1b26eff5-171e-4fea-eb45-c72a74460f03",
        "colab": {}
      },
      "source": [
        "plot_image(321)"
      ],
      "execution_count": 0,
      "outputs": [
        {
          "output_type": "display_data",
          "data": {
            "image/png": "[encoded data removed]",
            "text/plain": [
              "<Figure size 1080x576 with 1 Axes>"
            ]
          },
          "metadata": {
            "tags": [],
            "needs_background": "light"
          }
        }
      ]
    },
    {
      "cell_type": "code",
      "metadata": {
        "id": "h4vwH5u-Yp-i",
        "colab_type": "code",
        "outputId": "77e11d26-053d-42cf-dded-a01f34b97f38",
        "colab": {}
      },
      "source": [
        "plot_image(100)"
      ],
      "execution_count": 0,
      "outputs": [
        {
          "output_type": "display_data",
          "data": {
            "image/png": "[encoded data removed]",
            "text/plain": [
              "<Figure size 1080x576 with 1 Axes>"
            ]
          },
          "metadata": {
            "tags": [],
            "needs_background": "light"
          }
        }
      ]
    },
    {
      "cell_type": "code",
      "metadata": {
        "id": "OJYNvYhtYp-l",
        "colab_type": "code",
        "outputId": "7b6f4d55-0f60-4201-96ec-0985d13ce01f",
        "colab": {}
      },
      "source": [
        "plot_image(500)"
      ],
      "execution_count": 0,
      "outputs": [
        {
          "output_type": "display_data",
          "data": {
            "image/png": "[encoded data removed]",
            "text/plain": [
              "<Figure size 1080x576 with 1 Axes>"
            ]
          },
          "metadata": {
            "tags": [],
            "needs_background": "light"
          }
        }
      ]
    },
    {
      "cell_type": "code",
      "metadata": {
        "id": "a_r75cvLYp-o",
        "colab_type": "code",
        "colab": {}
      },
      "source": [
        "batch_size = 100\n",
        "num_classes = 10\n",
        "epochs = 10"
      ],
      "execution_count": 0,
      "outputs": []
    },
    {
      "cell_type": "markdown",
      "metadata": {
        "id": "a4BlIg67Yp-p",
        "colab_type": "text"
      },
      "source": [
        "## First Model - Simple"
      ]
    },
    {
      "cell_type": "code",
      "metadata": {
        "id": "_9koEdBNYp-q",
        "colab_type": "code",
        "colab": {}
      },
      "source": [
        "((trainX, trainY), (testX, testY)) = fashion_mnist.load_data()"
      ],
      "execution_count": 0,
      "outputs": []
    },
    {
      "cell_type": "code",
      "metadata": {
        "id": "qBRVqO9AYp-s",
        "colab_type": "code",
        "outputId": "f369e9c9-c2f5-43e0-8fc7-7b1eca55d2d6",
        "colab": {}
      },
      "source": [
        "print('x_train shape:', trainX.shape)\n",
        "print(trainX.shape[0], 'train samples')\n",
        "print(testX.shape[0], 'test samples')"
      ],
      "execution_count": 0,
      "outputs": [
        {
          "output_type": "stream",
          "text": [
            "x_train shape: (60000, 28, 28)\n",
            "60000 train samples\n",
            "10000 test samples\n"
          ],
          "name": "stdout"
        }
      ]
    },
    {
      "cell_type": "code",
      "metadata": {
        "id": "bUYJvZ1fYp-v",
        "colab_type": "code",
        "colab": {}
      },
      "source": [
        "trainY = keras.utils.to_categorical(trainY, num_classes)\n",
        "testY = keras.utils.to_categorical(testY, num_classes)"
      ],
      "execution_count": 0,
      "outputs": []
    },
    {
      "cell_type": "code",
      "metadata": {
        "id": "grHFijDqYp-x",
        "colab_type": "code",
        "colab": {}
      },
      "source": [
        "trainX = trainX.astype('float32')\n",
        "testX = testX.astype('float32')\n",
        "trainX /= 255\n",
        "testX /= 255"
      ],
      "execution_count": 0,
      "outputs": []
    },
    {
      "cell_type": "code",
      "metadata": {
        "id": "9QFO226wYp-y",
        "colab_type": "code",
        "colab": {}
      },
      "source": [
        "model = Sequential()\n",
        "model.add(Flatten())\n",
        "model.add(Dense(num_classes))\n",
        "model.add(Activation('softmax'))"
      ],
      "execution_count": 0,
      "outputs": []
    },
    {
      "cell_type": "code",
      "metadata": {
        "id": "ajDsEm3WYp-0",
        "colab_type": "code",
        "outputId": "b7c4fd6b-7f19-47f1-d1c3-10b744e66b82",
        "colab": {}
      },
      "source": [
        "model.compile(optimizer='rmsprop',\n",
        "              loss='categorical_crossentropy',\n",
        "              metrics=['accuracy'])"
      ],
      "execution_count": 0,
      "outputs": [
        {
          "output_type": "stream",
          "text": [
            "WARNING:tensorflow:From /opt/conda/lib/python3.7/site-packages/tensorflow/python/framework/op_def_library.py:263: colocate_with (from tensorflow.python.framework.ops) is deprecated and will be removed in a future version.\n",
            "Instructions for updating:\n",
            "Colocations handled automatically by placer.\n"
          ],
          "name": "stdout"
        }
      ]
    },
    {
      "cell_type": "code",
      "metadata": {
        "id": "pLo5tN5fYp-3",
        "colab_type": "code",
        "outputId": "fb401598-4782-48c9-a414-c4e24223e6bc",
        "colab": {}
      },
      "source": [
        "model.fit(trainX, trainY,\n",
        "              batch_size=batch_size,\n",
        "              epochs=epochs,\n",
        "              validation_data=(testX, testY))"
      ],
      "execution_count": 0,
      "outputs": [
        {
          "output_type": "stream",
          "text": [
            "WARNING:tensorflow:From /opt/conda/lib/python3.7/site-packages/tensorflow/python/ops/math_ops.py:3066: to_int32 (from tensorflow.python.ops.math_ops) is deprecated and will be removed in a future version.\n",
            "Instructions for updating:\n",
            "Use tf.cast instead.\n",
            "Train on 60000 samples, validate on 10000 samples\n",
            "Epoch 1/10\n",
            "60000/60000 [==============================] - 1s 23us/step - loss: 0.6622 - acc: 0.7787 - val_loss: 0.5478 - val_acc: 0.8139\n",
            "Epoch 2/10\n",
            "60000/60000 [==============================] - 1s 16us/step - loss: 0.4868 - acc: 0.8353 - val_loss: 0.4931 - val_acc: 0.8337\n",
            "Epoch 3/10\n",
            "60000/60000 [==============================] - 1s 16us/step - loss: 0.4567 - acc: 0.8455 - val_loss: 0.4856 - val_acc: 0.8328\n",
            "Epoch 4/10\n",
            "60000/60000 [==============================] - 1s 16us/step - loss: 0.4406 - acc: 0.8494 - val_loss: 0.4697 - val_acc: 0.8387\n",
            "Epoch 5/10\n",
            "60000/60000 [==============================] - 1s 16us/step - loss: 0.4299 - acc: 0.8534 - val_loss: 0.4663 - val_acc: 0.8408\n",
            "Epoch 6/10\n",
            "60000/60000 [==============================] - 1s 16us/step - loss: 0.4236 - acc: 0.8560 - val_loss: 0.4630 - val_acc: 0.8420\n",
            "Epoch 7/10\n",
            "60000/60000 [==============================] - 1s 16us/step - loss: 0.4177 - acc: 0.8576 - val_loss: 0.4578 - val_acc: 0.8426\n",
            "Epoch 8/10\n",
            "60000/60000 [==============================] - 1s 16us/step - loss: 0.4130 - acc: 0.8593 - val_loss: 0.4599 - val_acc: 0.8435\n",
            "Epoch 9/10\n",
            "60000/60000 [==============================] - 1s 16us/step - loss: 0.4096 - acc: 0.8609 - val_loss: 0.4508 - val_acc: 0.8451\n",
            "Epoch 10/10\n",
            "60000/60000 [==============================] - 1s 16us/step - loss: 0.4064 - acc: 0.8614 - val_loss: 0.4520 - val_acc: 0.8463\n"
          ],
          "name": "stdout"
        },
        {
          "output_type": "execute_result",
          "data": {
            "text/plain": [
              "<keras.callbacks.History at 0x7f1496e47208>"
            ]
          },
          "metadata": {
            "tags": []
          },
          "execution_count": 14
        }
      ]
    },
    {
      "cell_type": "code",
      "metadata": {
        "id": "ecGUAnp2Yp-7",
        "colab_type": "code",
        "colab": {}
      },
      "source": [
        "predictions_train = model.predict(trainX)\n",
        "predictions_test = model.predict(testX)"
      ],
      "execution_count": 0,
      "outputs": []
    },
    {
      "cell_type": "code",
      "metadata": {
        "id": "56cay2xDYp-9",
        "colab_type": "code",
        "outputId": "5eebd9aa-0cf0-4e26-d172-037198389aab",
        "colab": {}
      },
      "source": [
        "predictions_train"
      ],
      "execution_count": 0,
      "outputs": [
        {
          "output_type": "execute_result",
          "data": {
            "text/plain": [
              "array([[9.6114327e-13, 1.2131357e-22, 3.1905808e-12, ..., 1.0658331e-03,\n",
              "        1.0448357e-06, 9.9875093e-01],\n",
              "       [9.9233234e-01, 3.3935261e-11, 1.2668107e-03, ..., 2.8890674e-36,\n",
              "        6.2834931e-07, 4.5864166e-22],\n",
              "       [3.4175083e-01, 4.7352053e-02, 7.8976929e-02, ..., 7.3242579e-11,\n",
              "        1.4835086e-03, 8.8084898e-06],\n",
              "       ...,\n",
              "       [4.9060298e-04, 7.7858727e-05, 7.6613016e-04, ..., 2.1248071e-22,\n",
              "        1.7317710e-05, 1.6082933e-15],\n",
              "       [6.0300088e-01, 1.2881086e-03, 2.1866478e-01, ..., 4.2731769e-16,\n",
              "        3.5409802e-03, 1.3752243e-11],\n",
              "       [3.5086009e-06, 1.6154861e-08, 7.9126796e-05, ..., 2.0413511e-03,\n",
              "        1.4877783e-03, 2.9763993e-04]], dtype=float32)"
            ]
          },
          "metadata": {
            "tags": []
          },
          "execution_count": 16
        }
      ]
    },
    {
      "cell_type": "code",
      "metadata": {
        "id": "__kS_RkgYp_A",
        "colab_type": "code",
        "outputId": "57e94f31-a3f8-4759-fc69-0bf6483c98c9",
        "colab": {}
      },
      "source": [
        "scores = model.evaluate(testX, testY, verbose=1)"
      ],
      "execution_count": 0,
      "outputs": [
        {
          "output_type": "stream",
          "text": [
            "10000/10000 [==============================] - 0s 19us/step\n"
          ],
          "name": "stdout"
        }
      ]
    },
    {
      "cell_type": "code",
      "metadata": {
        "id": "fL36o5X7Yp_E",
        "colab_type": "code",
        "outputId": "24bd76a0-6390-4189-9889-7b2bd0a88d83",
        "colab": {}
      },
      "source": [
        "print('Test accuracy:', scores[1])"
      ],
      "execution_count": 0,
      "outputs": [
        {
          "output_type": "stream",
          "text": [
            "Test accuracy: 0.8463\n"
          ],
          "name": "stdout"
        }
      ]
    },
    {
      "cell_type": "markdown",
      "metadata": {
        "id": "-7gkkf2zYp_H",
        "colab_type": "text"
      },
      "source": [
        "## Complex Model"
      ]
    },
    {
      "cell_type": "code",
      "metadata": {
        "id": "A4AsFIZlYp_I",
        "colab_type": "code",
        "colab": {}
      },
      "source": [
        "((trainX, trainY), (testX, testY)) = fashion_mnist.load_data()"
      ],
      "execution_count": 0,
      "outputs": []
    },
    {
      "cell_type": "code",
      "metadata": {
        "id": "sETDz4GGYp_J",
        "colab_type": "code",
        "colab": {}
      },
      "source": [
        "trainX = trainX.reshape((trainX.shape[0], 28, 28, 1))\n",
        "testX = testX.reshape((testX.shape[0], 28, 28, 1))"
      ],
      "execution_count": 0,
      "outputs": []
    },
    {
      "cell_type": "code",
      "metadata": {
        "id": "-KnXJVNUYp_M",
        "colab_type": "code",
        "colab": {}
      },
      "source": [
        "trainY = keras.utils.to_categorical(trainY, num_classes)\n",
        "testY = keras.utils.to_categorical(testY, num_classes)"
      ],
      "execution_count": 0,
      "outputs": []
    },
    {
      "cell_type": "code",
      "metadata": {
        "id": "Ja1rxQEcYp_P",
        "colab_type": "code",
        "outputId": "b81cae0e-04fb-4cc2-e0fc-b196a8821e7a",
        "colab": {}
      },
      "source": [
        "trainX.shape"
      ],
      "execution_count": 0,
      "outputs": [
        {
          "output_type": "execute_result",
          "data": {
            "text/plain": [
              "(60000, 28, 28, 1)"
            ]
          },
          "metadata": {
            "tags": []
          },
          "execution_count": 22
        }
      ]
    },
    {
      "cell_type": "code",
      "metadata": {
        "id": "TzJvnEnwYp_S",
        "colab_type": "code",
        "outputId": "ddee2a9a-ad0e-4909-cf3c-c420b503e456",
        "colab": {}
      },
      "source": [
        "testX.shape"
      ],
      "execution_count": 0,
      "outputs": [
        {
          "output_type": "execute_result",
          "data": {
            "text/plain": [
              "(10000, 28, 28, 1)"
            ]
          },
          "metadata": {
            "tags": []
          },
          "execution_count": 23
        }
      ]
    },
    {
      "cell_type": "code",
      "metadata": {
        "id": "Syc05hb9Yp_U",
        "colab_type": "code",
        "outputId": "d4be6e01-6b8b-413e-e0f8-c792ca6237df",
        "colab": {}
      },
      "source": [
        "model = Sequential()\n",
        "model.add(Conv2D(64, (3, 3), padding='same',\n",
        "                 input_shape=trainX.shape[1:]))\n",
        "model.add(Activation('relu'))\n",
        "model.add(Conv2D(32, (3, 3)))\n",
        "model.add(Activation('relu'))\n",
        "model.add(MaxPooling2D(pool_size=(2, 2)))\n",
        "model.add(Dropout(0.25))\n",
        "\n",
        "model.add(Conv2D(64, (3, 3), padding='same'))\n",
        "model.add(Activation('relu'))\n",
        "model.add(Conv2D(64, (3, 3)))\n",
        "model.add(Activation('relu'))\n",
        "model.add(MaxPooling2D(pool_size=(2, 2)))\n",
        "model.add(Dropout(0.25))\n",
        "\n",
        "model.add(Flatten())\n",
        "model.add(Dense(512))\n",
        "model.add(Activation('relu'))\n",
        "model.add(Dropout(0.5))\n",
        "model.add(Dense(num_classes))\n",
        "model.add(Activation('softmax'))"
      ],
      "execution_count": 0,
      "outputs": [
        {
          "output_type": "stream",
          "text": [
            "WARNING:tensorflow:From /opt/conda/lib/python3.7/site-packages/keras/backend/tensorflow_backend.py:3445: calling dropout (from tensorflow.python.ops.nn_ops) with keep_prob is deprecated and will be removed in a future version.\n",
            "Instructions for updating:\n",
            "Please use `rate` instead of `keep_prob`. Rate should be set to `rate = 1 - keep_prob`.\n"
          ],
          "name": "stdout"
        }
      ]
    },
    {
      "cell_type": "code",
      "metadata": {
        "id": "6mF9KRIpYp_X",
        "colab_type": "code",
        "colab": {}
      },
      "source": [
        "model.compile(optimizer='adam',\n",
        "              loss='categorical_crossentropy',\n",
        "              metrics=['accuracy'])"
      ],
      "execution_count": 0,
      "outputs": []
    },
    {
      "cell_type": "code",
      "metadata": {
        "id": "pRLRNxEgYp_Y",
        "colab_type": "code",
        "outputId": "ed5785f6-3b9a-458c-876d-4dba0c9fb3fb",
        "colab": {}
      },
      "source": [
        "model.fit(trainX, trainY,\n",
        "              batch_size=batch_size,\n",
        "              epochs=epochs,\n",
        "              validation_data=(testX, testY))"
      ],
      "execution_count": 0,
      "outputs": [
        {
          "output_type": "stream",
          "text": [
            "Train on 60000 samples, validate on 10000 samples\n",
            "Epoch 1/10\n",
            "60000/60000 [==============================] - 24s 402us/step - loss: 0.9413 - acc: 0.7566 - val_loss: 0.3702 - val_acc: 0.8622\n",
            "Epoch 2/10\n",
            "60000/60000 [==============================] - 23s 378us/step - loss: 0.3877 - acc: 0.8574 - val_loss: 0.3140 - val_acc: 0.8827\n",
            "Epoch 3/10\n",
            "60000/60000 [==============================] - 23s 377us/step - loss: 0.3335 - acc: 0.8767 - val_loss: 0.2846 - val_acc: 0.8965\n",
            "Epoch 4/10\n",
            "60000/60000 [==============================] - 23s 378us/step - loss: 0.3056 - acc: 0.8870 - val_loss: 0.2746 - val_acc: 0.9029\n",
            "Epoch 5/10\n",
            "60000/60000 [==============================] - 23s 379us/step - loss: 0.2823 - acc: 0.8962 - val_loss: 0.2650 - val_acc: 0.9048\n",
            "Epoch 6/10\n",
            "60000/60000 [==============================] - 23s 381us/step - loss: 0.2724 - acc: 0.8997 - val_loss: 0.2515 - val_acc: 0.9100\n",
            "Epoch 7/10\n",
            "60000/60000 [==============================] - 23s 381us/step - loss: 0.2537 - acc: 0.9068 - val_loss: 0.2377 - val_acc: 0.9111\n",
            "Epoch 8/10\n",
            "60000/60000 [==============================] - 23s 377us/step - loss: 0.2473 - acc: 0.9080 - val_loss: 0.2291 - val_acc: 0.9168\n",
            "Epoch 9/10\n",
            "60000/60000 [==============================] - 23s 379us/step - loss: 0.2394 - acc: 0.9124 - val_loss: 0.2491 - val_acc: 0.9118\n",
            "Epoch 10/10\n",
            "60000/60000 [==============================] - 23s 379us/step - loss: 0.2319 - acc: 0.9138 - val_loss: 0.2277 - val_acc: 0.9166\n"
          ],
          "name": "stdout"
        },
        {
          "output_type": "execute_result",
          "data": {
            "text/plain": [
              "<keras.callbacks.History at 0x7f14994649e8>"
            ]
          },
          "metadata": {
            "tags": []
          },
          "execution_count": 26
        }
      ]
    },
    {
      "cell_type": "code",
      "metadata": {
        "id": "spgbi6p6Yp_b",
        "colab_type": "code",
        "outputId": "fa7ee422-cc74-4443-9909-2b7dea73eab7",
        "colab": {}
      },
      "source": [
        "scores = model.evaluate(testX, testY, verbose=1)"
      ],
      "execution_count": 0,
      "outputs": [
        {
          "output_type": "stream",
          "text": [
            "10000/10000 [==============================] - 1s 131us/step\n"
          ],
          "name": "stdout"
        }
      ]
    },
    {
      "cell_type": "code",
      "metadata": {
        "id": "PE_IMta-Yp_e",
        "colab_type": "code",
        "outputId": "9c22ea1c-00c7-41d7-d38f-a116a05f1b17",
        "colab": {}
      },
      "source": [
        "print('Test accuracy:', scores[1])"
      ],
      "execution_count": 0,
      "outputs": [
        {
          "output_type": "stream",
          "text": [
            "Test accuracy: 0.9166\n"
          ],
          "name": "stdout"
        }
      ]
    },
    {
      "cell_type": "code",
      "metadata": {
        "id": "t4496aKBYp_h",
        "colab_type": "code",
        "colab": {}
      },
      "source": [
        ""
      ],
      "execution_count": 0,
      "outputs": []
    }
  ]
}